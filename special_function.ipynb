{
 "cells": [
  {
   "cell_type": "markdown",
   "metadata": {},
   "source": [
    "##   lambda function:"
   ]
  },
  {
   "cell_type": "code",
   "execution_count": 1,
   "metadata": {},
   "outputs": [],
   "source": [
    "import numpy as np"
   ]
  },
  {
   "cell_type": "code",
   "execution_count": 10,
   "metadata": {},
   "outputs": [],
   "source": [
    "SPN = np.random.randint(0, 100, (3, 6, 5))"
   ]
  },
  {
   "cell_type": "code",
   "execution_count": 11,
   "metadata": {},
   "outputs": [
    {
     "data": {
      "text/plain": [
       "array([[[10, 11, 80,  3, 41],\n",
       "        [95, 69, 12, 48, 56],\n",
       "        [27, 95, 18, 17, 94],\n",
       "        [82,  8, 19, 26, 87],\n",
       "        [36, 54, 34,  8, 33],\n",
       "        [43, 44, 13, 30, 39]],\n",
       "\n",
       "       [[ 5, 94,  8,  9, 20],\n",
       "        [11, 60, 62,  6, 20],\n",
       "        [42, 91, 70, 92, 51],\n",
       "        [74, 61,  9, 99, 20],\n",
       "        [40, 56, 79, 90, 76],\n",
       "        [ 9, 86, 33, 52, 89]],\n",
       "\n",
       "       [[59, 56, 77, 41, 72],\n",
       "        [95, 63, 52, 63, 15],\n",
       "        [17, 87, 40, 10, 42],\n",
       "        [ 9, 12, 19, 61, 85],\n",
       "        [87, 66, 12, 82, 49],\n",
       "        [ 6,  4, 64, 44, 59]]])"
      ]
     },
     "execution_count": 11,
     "metadata": {},
     "output_type": "execute_result"
    }
   ],
   "source": [
    "SPN"
   ]
  },
  {
   "cell_type": "code",
   "execution_count": 20,
   "metadata": {},
   "outputs": [],
   "source": [
    "test=lambda tr: SPN[:,0,:]"
   ]
  },
  {
   "cell_type": "code",
   "execution_count": 21,
   "metadata": {},
   "outputs": [
    {
     "data": {
      "text/plain": [
       "<function __main__.<lambda>(tr)>"
      ]
     },
     "execution_count": 21,
     "metadata": {},
     "output_type": "execute_result"
    }
   ],
   "source": [
    "test"
   ]
  },
  {
   "cell_type": "markdown",
   "metadata": {},
   "source": [
    "##  tr has nothing to with SPN"
   ]
  },
  {
   "cell_type": "code",
   "execution_count": 30,
   "metadata": {},
   "outputs": [],
   "source": [
    "tre=np.array([1,2,3])"
   ]
  },
  {
   "cell_type": "code",
   "execution_count": 31,
   "metadata": {},
   "outputs": [
    {
     "data": {
      "text/plain": [
       "array([1, 2, 3])"
      ]
     },
     "execution_count": 31,
     "metadata": {},
     "output_type": "execute_result"
    }
   ],
   "source": [
    "tre"
   ]
  },
  {
   "cell_type": "code",
   "execution_count": 32,
   "metadata": {},
   "outputs": [
    {
     "data": {
      "text/plain": [
       "array([[[10, 11, 80,  3, 41],\n",
       "        [95, 69, 12, 48, 56],\n",
       "        [27, 95, 18, 17, 94],\n",
       "        [82,  8, 19, 26, 87],\n",
       "        [36, 54, 34,  8, 33],\n",
       "        [43, 44, 13, 30, 39]],\n",
       "\n",
       "       [[ 5, 94,  8,  9, 20],\n",
       "        [11, 60, 62,  6, 20],\n",
       "        [42, 91, 70, 92, 51],\n",
       "        [74, 61,  9, 99, 20],\n",
       "        [40, 56, 79, 90, 76],\n",
       "        [ 9, 86, 33, 52, 89]],\n",
       "\n",
       "       [[59, 56, 77, 41, 72],\n",
       "        [95, 63, 52, 63, 15],\n",
       "        [17, 87, 40, 10, 42],\n",
       "        [ 9, 12, 19, 61, 85],\n",
       "        [87, 66, 12, 82, 49],\n",
       "        [ 6,  4, 64, 44, 59]]])"
      ]
     },
     "execution_count": 32,
     "metadata": {},
     "output_type": "execute_result"
    }
   ],
   "source": [
    "SPN"
   ]
  },
  {
   "cell_type": "code",
   "execution_count": 33,
   "metadata": {},
   "outputs": [
    {
     "data": {
      "text/plain": [
       "array([[10, 11, 80,  3, 41],\n",
       "       [ 5, 94,  8,  9, 20],\n",
       "       [59, 56, 77, 41, 72]])"
      ]
     },
     "execution_count": 33,
     "metadata": {},
     "output_type": "execute_result"
    }
   ],
   "source": [
    "test(tre)"
   ]
  },
  {
   "cell_type": "code",
   "execution_count": 34,
   "metadata": {},
   "outputs": [],
   "source": [
    "ff=0"
   ]
  },
  {
   "cell_type": "code",
   "execution_count": 35,
   "metadata": {},
   "outputs": [
    {
     "data": {
      "text/plain": [
       "array([[10, 11, 80,  3, 41],\n",
       "       [ 5, 94,  8,  9, 20],\n",
       "       [59, 56, 77, 41, 72]])"
      ]
     },
     "execution_count": 35,
     "metadata": {},
     "output_type": "execute_result"
    }
   ],
   "source": [
    "test(ff)"
   ]
  },
  {
   "cell_type": "markdown",
   "metadata": {},
   "source": [
    "##  We get the same result"
   ]
  },
  {
   "cell_type": "code",
   "execution_count": null,
   "metadata": {},
   "outputs": [],
   "source": []
  }
 ],
 "metadata": {
  "kernelspec": {
   "display_name": "Python 3",
   "language": "python",
   "name": "python3"
  },
  "language_info": {
   "codemirror_mode": {
    "name": "ipython",
    "version": 3
   },
   "file_extension": ".py",
   "mimetype": "text/x-python",
   "name": "python",
   "nbconvert_exporter": "python",
   "pygments_lexer": "ipython3",
   "version": "3.6.7"
  }
 },
 "nbformat": 4,
 "nbformat_minor": 2
}
